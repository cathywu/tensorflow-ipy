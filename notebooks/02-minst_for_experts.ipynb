{
 "cells": [
  {
   "cell_type": "markdown",
   "metadata": {
    "collapsed": true
   },
   "source": [
    "This notebook is from created from the TensorFlow tutorial:\n",
    "http://tensorflow.org/tutorials/mnist/pros/index.md"
   ]
  },
  {
   "cell_type": "markdown",
   "metadata": {},
   "source": [
    "Import the MNIST Data"
   ]
  },
  {
   "cell_type": "code",
   "execution_count": 1,
   "metadata": {
    "collapsed": false
   },
   "outputs": [],
   "source": [
    "import input_data"
   ]
  },
  {
   "cell_type": "code",
   "execution_count": 2,
   "metadata": {
    "collapsed": false
   },
   "outputs": [
    {
     "name": "stdout",
     "output_type": "stream",
     "text": [
      "Extracting MNIST_data/train-images-idx3-ubyte.gz\n",
      "Extracting MNIST_data/train-labels-idx1-ubyte.gz\n",
      "Extracting MNIST_data/t10k-images-idx3-ubyte.gz\n",
      "Extracting MNIST_data/t10k-labels-idx1-ubyte.gz\n"
     ]
    }
   ],
   "source": [
    "mnist = input_data.read_data_sets(\"MNIST_data/\", one_hot=True)"
   ]
  },
  {
   "cell_type": "markdown",
   "metadata": {},
   "source": [
    "Get size of training data"
   ]
  },
  {
   "cell_type": "code",
   "execution_count": 3,
   "metadata": {
    "collapsed": false
   },
   "outputs": [
    {
     "data": {
      "text/plain": [
       "55000"
      ]
     },
     "execution_count": 3,
     "metadata": {},
     "output_type": "execute_result"
    }
   ],
   "source": [
    "mnist.train.num_examples"
   ]
  },
  {
   "cell_type": "markdown",
   "metadata": {},
   "source": [
    "Get size of test data"
   ]
  },
  {
   "cell_type": "code",
   "execution_count": 4,
   "metadata": {
    "collapsed": false
   },
   "outputs": [
    {
     "data": {
      "text/plain": [
       "10000"
      ]
     },
     "execution_count": 4,
     "metadata": {},
     "output_type": "execute_result"
    }
   ],
   "source": [
    "mnist.test.num_examples"
   ]
  },
  {
   "cell_type": "markdown",
   "metadata": {},
   "source": [
    "Display size of training images tensor"
   ]
  },
  {
   "cell_type": "code",
   "execution_count": 5,
   "metadata": {
    "collapsed": false
   },
   "outputs": [
    {
     "data": {
      "text/plain": [
       "(55000, 784)"
      ]
     },
     "execution_count": 5,
     "metadata": {},
     "output_type": "execute_result"
    }
   ],
   "source": [
    "mnist.train.images.shape"
   ]
  },
  {
   "cell_type": "code",
   "execution_count": 6,
   "metadata": {
    "collapsed": false
   },
   "outputs": [
    {
     "data": {
      "text/plain": [
       "(55000, 10)"
      ]
     },
     "execution_count": 6,
     "metadata": {},
     "output_type": "execute_result"
    }
   ],
   "source": [
    "mnist.train.labels.shape"
   ]
  },
  {
   "cell_type": "code",
   "execution_count": 7,
   "metadata": {
    "collapsed": false
   },
   "outputs": [
    {
     "name": "stdout",
     "output_type": "stream",
     "text": [
      "Populating the interactive namespace from numpy and matplotlib\n"
     ]
    }
   ],
   "source": [
    "import time\n",
    "import numpy as np\n",
    "import matplotlib.pyplot as plt\n",
    "import matplotlib.cm as cm\n",
    "%pylab inline"
   ]
  },
  {
   "cell_type": "code",
   "execution_count": 8,
   "metadata": {
    "collapsed": false
   },
   "outputs": [],
   "source": [
    "first_image_array = mnist.train.images[0, ]\n",
    "image_length = int(np.sqrt(first_image_array.size))\n",
    "first_image = np.reshape(first_image_array, (-1, image_length))"
   ]
  },
  {
   "cell_type": "code",
   "execution_count": 9,
   "metadata": {
    "collapsed": false
   },
   "outputs": [
    {
     "data": {
      "text/plain": [
       "(28, 28)"
      ]
     },
     "execution_count": 9,
     "metadata": {},
     "output_type": "execute_result"
    }
   ],
   "source": [
    "first_image.shape"
   ]
  },
  {
   "cell_type": "code",
   "execution_count": 10,
   "metadata": {
    "collapsed": false
   },
   "outputs": [
    {
     "data": {
      "image/png": "[encoded data removed]",
      "text/plain": [
       "<matplotlib.figure.Figure at 0x7f2e8004ced0>"
      ]
     },
     "metadata": {},
     "output_type": "display_data"
    }
   ],
   "source": [
    "plt.imshow(first_image, cmap = cm.Greys_r)\n",
    "plt.show()"
   ]
  },
  {
   "cell_type": "markdown",
   "metadata": {},
   "source": [
    "## Variables"
   ]
  },
  {
   "cell_type": "code",
   "execution_count": 11,
   "metadata": {
    "collapsed": false
   },
   "outputs": [],
   "source": [
    "import tensorflow as tf\n",
    "#set up an interactive session\n",
    "sess = tf.InteractiveSession()\n",
    "\n",
    "#set up first the softmax regression model with a single linear layer\n",
    "\n",
    "#create nodes for the input impages and target output classes [these are placeholders]\n",
    "x = tf.placeholder(\"float\", [None, 784])\n",
    "y_ = tf.placeholder(\"float\", [None,10])\n",
    "\n",
    "#now create the variables for the linear model: y = Wx + b\n",
    "#these are initialized as zeros\n",
    "\n",
    "W = tf.Variable(tf.zeros([784,10]))\n",
    "b = tf.Variable(tf.zeros([10]))\n",
    "\n",
    "# initialize all the variables\n",
    "sess.run(tf.initialize_all_variables())\n"
   ]
  },
  {
   "cell_type": "markdown",
   "metadata": {},
   "source": [
    "## Predicted Class and Cost Function"
   ]
  },
  {
   "cell_type": "code",
   "execution_count": 12,
   "metadata": {
    "collapsed": true
   },
   "outputs": [],
   "source": [
    "# set up the regression model and the cross-entroy cost function\n",
    "y = tf.nn.softmax(tf.matmul(x,W)+b)\n",
    "\n",
    "cross_entropy = -tf.reduce_sum(y_*tf.log(y))"
   ]
  },
  {
   "cell_type": "markdown",
   "metadata": {},
   "source": [
    "## Train the Model"
   ]
  },
  {
   "cell_type": "code",
   "execution_count": 13,
   "metadata": {
    "collapsed": false
   },
   "outputs": [],
   "source": [
    "# set up the training to minimize the cost function and run the training for 1000 steps\n",
    "\n",
    "train_step = tf.train.GradientDescentOptimizer(0.01).minimize(cross_entropy)# run the training for 1000 times\n",
    "\n",
    "for i in range(1000):\n",
    "    batch = mnist.train.next_batch(50)\n",
    "    train_step.run(feed_dict={x: batch[0], y_: batch[1]})"
   ]
  },
  {
   "cell_type": "markdown",
   "metadata": {},
   "source": [
    "## Evaluate the Model"
   ]
  },
  {
   "cell_type": "code",
   "execution_count": 14,
   "metadata": {
    "collapsed": false
   },
   "outputs": [
    {
     "name": "stdout",
     "output_type": "stream",
     "text": [
      "0.9092\n"
     ]
    }
   ],
   "source": [
    "# check the model by comparing which of predicted (highest probability) are equal to actual labels in the test set\n",
    "\n",
    "correct_prediction = tf.equal(tf.argmax(y,1), tf.argmax(y_, 1))\n",
    "\n",
    "# go ahead and cast this to get the mean accuracy\n",
    "accuracy = tf.reduce_mean(tf.cast(correct_prediction, \"float\"))\n",
    "\n",
    "print accuracy.eval(feed_dict={x: mnist.test.images, y_: mnist.test.labels})"
   ]
  },
  {
   "cell_type": "markdown",
   "metadata": {},
   "source": [
    "This is 90.92% or 9.08% error. Compare this to error rates on http://rodrigob.github.io/are_we_there_yet/build/classification_datasets_results.html"
   ]
  },
  {
   "cell_type": "markdown",
   "metadata": {},
   "source": [
    "# Build a Multilayer Convolutional Network"
   ]
  },
  {
   "cell_type": "markdown",
   "metadata": {},
   "source": [
    "## Weight Initialization"
   ]
  },
  {
   "cell_type": "code",
   "execution_count": 15,
   "metadata": {
    "collapsed": true
   },
   "outputs": [],
   "source": [
    "# want some random slightly non-zero weights to remove symmetry and 0 gradients.\n",
    "# also slightly positive bias to avoid \"dead neurons\". Generate a couple functions to do this.\n",
    "\n",
    "def weight_variable(shape):\n",
    "        initial = tf.truncated_normal(shape, stddev=0.1)\n",
    "        return tf.Variable(initial)\n",
    "    \n",
    "def bias_variable(shape):\n",
    "        initial = tf.constant(0.1, shape=shape)\n",
    "        return tf.Variable(initial)\n"
   ]
  },
  {
   "cell_type": "markdown",
   "metadata": {},
   "source": [
    "## Convolution and Pooling\n",
    "\n",
    "In a [convolution](https://www.tensorflow.org/versions/r0.10/api_docs/python/nn.html#convolution), both the input `x` and the filter `W` are given as 4-D tensors. The filter is applied to input image patches of the same size as the filter and strided according to the strides argument. `strides = [1, 1, 1, 1]` applies the filter to a patch at every offset, `strides = [1, 2, 2, 1]` applies the filter to every other image patch in each dimension, etc.\n",
    "\n",
    "In [pooling](https://www.tensorflow.org/versions/r0.10/api_docs/python/nn.html#pooling), `ksize` refers to the window size with which to pool.\n",
    "\n",
    "The `padding` option can be `SAME` or `VALID` (zero-padded)."
   ]
  },
  {
   "cell_type": "code",
   "execution_count": 16,
   "metadata": {
    "collapsed": false
   },
   "outputs": [],
   "source": [
    "# choose vanilla versions relative to convolution and pooling operations\n",
    "# i.e. max pooling over 2x2 block\n",
    "\n",
    "def conv2d(x, W):\n",
    "    return tf.nn.conv2d(x, W, strides=[1,1,1,1], padding='SAME')\n",
    "\n",
    "def max_pool_2x2(x):\n",
    "    return tf.nn.max_pool(x, ksize=[1,2,2,1], strides=[1,2,2,1], padding='SAME')\n"
   ]
  },
  {
   "cell_type": "markdown",
   "metadata": {},
   "source": [
    "## First Convolution Layer"
   ]
  },
  {
   "cell_type": "code",
   "execution_count": 17,
   "metadata": {
    "collapsed": false
   },
   "outputs": [],
   "source": [
    "# first layer: convolution followed by max pooling: 32 features for each 5x5 patch\n",
    "# shape [5, 5, 1, 32]\n",
    "\n",
    "size1 = 16\n",
    "\n",
    "W_conv1 = weight_variable([5,5,1,size1])\n",
    "b_conv1 = bias_variable([size1])\n",
    "\n",
    "# to apply, reshape x to a 4d tensor (second and third dimensions \n",
    "# are image width and height, last dimension is the number of color channels)\n",
    "# the first dimension (-1) denotes the remaining factor.\n",
    "x_image = tf.reshape(x, [-1,28,28,1])\n",
    "\n",
    "# convolve x_image with weight tensor, add bias, apply ReLU fn \n",
    "# (max(x,0)) and max pool\n",
    "h_conv1 = tf.nn.relu(conv2d(x_image, W_conv1) + b_conv1)\n",
    "h_pool1 = max_pool_2x2(h_conv1)"
   ]
  },
  {
   "cell_type": "markdown",
   "metadata": {},
   "source": [
    "## Second Convolution Layer"
   ]
  },
  {
   "cell_type": "code",
   "execution_count": 18,
   "metadata": {
    "collapsed": false
   },
   "outputs": [],
   "source": [
    "# to build a deep network stack several layer. 2nd layer will\n",
    "# have 64 features per 5x5 patch\n",
    "\n",
    "size2 = 32\n",
    "\n",
    "W_conv2 = weight_variable([5,5,size1,size2])\n",
    "b_conv2 = bias_variable([size2])\n",
    "\n",
    "h_conv2 = tf.nn.relu(conv2d(h_pool1, W_conv2) + b_conv2)\n",
    "h_pool2 = max_pool_2x2(h_conv2)"
   ]
  },
  {
   "cell_type": "markdown",
   "metadata": {},
   "source": [
    "## Densely Connected Layer"
   ]
  },
  {
   "cell_type": "code",
   "execution_count": 19,
   "metadata": {
    "collapsed": false
   },
   "outputs": [],
   "source": [
    "# now that image is reduced to 7x7 (28x28 --> 14x14), we add fully \n",
    "# connected layer with 1024 neurons to process entire image\n",
    "\n",
    "size3 = 256\n",
    "\n",
    "W_fc1 = weight_variable([7*7*size2, size3])\n",
    "b_fc1 = bias_variable([size3])\n",
    "\n",
    "h_pool2_flat = tf.reshape(h_pool2, [-1, 7*7*size2])\n",
    "h_fc1 = tf.nn.relu(tf.matmul(h_pool2_flat, W_fc1) + b_fc1)"
   ]
  },
  {
   "cell_type": "markdown",
   "metadata": {},
   "source": [
    "### Dropout"
   ]
  },
  {
   "cell_type": "code",
   "execution_count": 20,
   "metadata": {
    "collapsed": true
   },
   "outputs": [],
   "source": [
    "#apply dropout to reduce overfitting\n",
    "keep_prob = tf.placeholder(\"float\")\n",
    "h_fc1_drop = tf.nn.dropout(h_fc1, keep_prob)"
   ]
  },
  {
   "cell_type": "markdown",
   "metadata": {},
   "source": [
    "## Readout Layer"
   ]
  },
  {
   "cell_type": "code",
   "execution_count": null,
   "metadata": {
    "collapsed": true
   },
   "outputs": [],
   "source": [
    "# add softmax layer\n",
    "W_fc2 = weight_variable([size3, 10])\n",
    "b_fc2 = bias_variable([10])\n",
    "\n",
    "y_conv=tf.nn.softmax(tf.matmul(h_fc1_drop, W_fc2) + b_fc2)"
   ]
  },
  {
   "cell_type": "markdown",
   "metadata": {},
   "source": [
    "# Train and Evaluate the Model"
   ]
  },
  {
   "cell_type": "code",
   "execution_count": null,
   "metadata": {
    "collapsed": false
   },
   "outputs": [
    {
     "name": "stdout",
     "output_type": "stream",
     "text": [
      "2016-09-05 06:06:06\n",
      "step   500, training accuracy    0.800, test accuracy    0.721\n",
      "step  1000, training accuracy    1.000, test accuracy    0.724\n",
      "step  1500, training accuracy    1.000, test accuracy    0.873\n",
      "step  2000, training accuracy    1.000, test accuracy    0.900\n",
      "step  2500, training accuracy    1.000, test accuracy    0.906\n",
      "step  3000, training accuracy    1.000, test accuracy    0.918\n",
      "step  3500, training accuracy    1.000, test accuracy    0.928\n",
      "step  4000, training accuracy    0.800, test accuracy    0.936\n",
      "step  4500, training accuracy    1.000, test accuracy    0.934\n",
      "step  5000, training accuracy    1.000, test accuracy    0.942\n",
      "step  5500, training accuracy    1.000, test accuracy    0.945\n",
      "step  6000, training accuracy    1.000, test accuracy    0.948\n",
      "step  6500, training accuracy    1.000, test accuracy    0.952\n",
      "step  7000, training accuracy    1.000, test accuracy    0.950\n",
      "step  7500, training accuracy    1.000, test accuracy    0.953\n",
      "step  8000, training accuracy    0.600, test accuracy    0.950\n",
      "step  8500, training accuracy    1.000, test accuracy    0.958\n",
      "step  9000, training accuracy    1.000, test accuracy    0.962\n",
      "step  9500, training accuracy    1.000, test accuracy    0.962\n",
      "step 10000, training accuracy    0.800, test accuracy    0.968\n",
      "step 10500, training accuracy    1.000, test accuracy    0.966\n",
      "step 11000, training accuracy    0.800, test accuracy    0.966\n",
      "step 11500, training accuracy    1.000, test accuracy    0.965\n",
      "step 12000, training accuracy    1.000, test accuracy    0.971\n",
      "step 12500, training accuracy    0.600, test accuracy    0.969\n",
      "step 13000, training accuracy    1.000, test accuracy    0.970\n",
      "step 13500, training accuracy    1.000, test accuracy    0.971\n",
      "step 14000, training accuracy    0.800, test accuracy    0.975\n",
      "step 14500, training accuracy    1.000, test accuracy    0.971\n",
      "step 15000, training accuracy    1.000, test accuracy    0.975\n",
      "step 15500, training accuracy    0.800, test accuracy    0.975\n",
      "step 16000, training accuracy    1.000, test accuracy    0.971\n",
      "step 16500, training accuracy    1.000, test accuracy    0.974\n",
      "step 17000, training accuracy    1.000, test accuracy    0.975\n",
      "step 17500, training accuracy    1.000, test accuracy    0.974\n",
      "step 18000, training accuracy    1.000, test accuracy    0.973\n",
      "step 18500, training accuracy    1.000, test accuracy    0.979\n",
      "step 19000, training accuracy    1.000, test accuracy    0.974\n",
      "step 19500, training accuracy    1.000, test accuracy    0.976\n",
      "2016-09-05 06:16:22"
     ]
    }
   ],
   "source": [
    "# This training takes about 15 minutes on a 3 GHz Intel Core i7 (1 core) and achieves ~97.6% test accuracy\n",
    "#\n",
    "cross_entropy = tf.reduce_mean(-tf.reduce_sum(y_ * tf.log(y_conv), reduction_indices=[1]))\n",
    "train_step = tf.train.AdamOptimizer(1e-4).minimize(cross_entropy)\n",
    "correct_prediction = tf.equal(tf.argmax(y_conv,1), tf.argmax(y_,1))\n",
    "accuracy = tf.reduce_mean(tf.cast(correct_prediction, \"float\"))\n",
    "sess.run(tf.initialize_all_variables())\n",
    "\n",
    "acc = []\n",
    "num_train = 20000\n",
    "\n",
    "num_test = 2000 # -1 to test all, but use fewer for limited memory situations\n",
    "\n",
    "startTime = time.clock()\n",
    "print time.strftime(\"%Y-%m-%d %H:%M:%S\")\n",
    "\n",
    "for i in range(num_train):\n",
    "    batch = mnist.train.next_batch(5)\n",
    "    if i%500 == 0 and i != 0:\n",
    "        train_accuracy = accuracy.eval(feed_dict={\n",
    "                x:batch[0], y_: batch[1], keep_prob: 1.0})\n",
    "        test_accuracy = accuracy.eval(feed_dict={\n",
    "                x: mnist.test.images[:num_test], y_: mnist.test.labels[:num_test], keep_prob: 1.0})\n",
    "        print \"step %5d, training accuracy %8.3f, test accuracy %8.3f\"%(i, train_accuracy, test_accuracy)\n",
    "        acc.append(test_accuracy)\n",
    "    train_step.run(feed_dict={x: batch[0], y_: batch[1], keep_prob: 0.5})\n",
    "\n",
    "endTime = time.clock()\n",
    "print time.strftime(\"%Y-%m-%d %H:%M:%S\")\n",
    "\n",
    "print \"test accuracy %g\"%accuracy.eval(feed_dict={\n",
    "    x: mnist.test.images, y_: mnist.test.labels, keep_prob: 1.0})\n",
    "print \"Time to run: %f s\" % (endTime - startTime)"
   ]
  },
  {
   "cell_type": "code",
   "execution_count": 1,
   "metadata": {
    "collapsed": false
   },
   "outputs": [
    {
     "ename": "ImportError",
     "evalue": "No module named pandas",
     "output_type": "error",
     "traceback": [
      "\u001b[1;31m---------------------------------------------------------------------------\u001b[0m",
      "\u001b[1;31mImportError\u001b[0m                               Traceback (most recent call last)",
      "\u001b[1;32m<ipython-input-1-d35986a64dc4>\u001b[0m in \u001b[0;36m<module>\u001b[1;34m()\u001b[0m\n\u001b[1;32m----> 1\u001b[1;33m \u001b[1;32mimport\u001b[0m \u001b[0mpandas\u001b[0m \u001b[1;32mas\u001b[0m \u001b[0mpd\u001b[0m\u001b[1;33m\u001b[0m\u001b[0m\n\u001b[0m\u001b[0;32m      2\u001b[0m \u001b[1;33m\u001b[0m\u001b[0m\n\u001b[0;32m      3\u001b[0m \u001b[0macc\u001b[0m \u001b[1;33m=\u001b[0m \u001b[0mpd\u001b[0m\u001b[1;33m.\u001b[0m\u001b[0mSeries\u001b[0m\u001b[1;33m(\u001b[0m\u001b[0macc\u001b[0m\u001b[1;33m)\u001b[0m\u001b[1;33m\u001b[0m\u001b[0m\n\u001b[0;32m      4\u001b[0m \u001b[0mplt\u001b[0m\u001b[1;33m.\u001b[0m\u001b[0mfigure\u001b[0m\u001b[1;33m(\u001b[0m\u001b[1;33m)\u001b[0m\u001b[1;33m\u001b[0m\u001b[0m\n\u001b[0;32m      5\u001b[0m \u001b[0mplt\u001b[0m\u001b[1;33m.\u001b[0m\u001b[0mylim\u001b[0m\u001b[1;33m(\u001b[0m\u001b[1;36m0.9\u001b[0m\u001b[1;33m,\u001b[0m \u001b[1;36m1.01\u001b[0m\u001b[1;33m)\u001b[0m\u001b[1;33m\u001b[0m\u001b[0m\n",
      "\u001b[1;31mImportError\u001b[0m: No module named pandas"
     ]
    }
   ],
   "source": [
    "import pandas as pd\n",
    "\n",
    "acc = pd.Series(acc)\n",
    "plt.figure()\n",
    "plt.ylim(0.9, 1.01)\n",
    "p=acc.plot()"
   ]
  },
  {
   "cell_type": "code",
   "execution_count": null,
   "metadata": {
    "collapsed": true
   },
   "outputs": [],
   "source": []
  },
  {
   "cell_type": "markdown",
   "metadata": {},
   "source": [
    "The final test set accuracy should be approximately 99.2%"
   ]
  }
 ],
 "metadata": {
  "kernelspec": {
   "display_name": "Python 2",
   "language": "python",
   "name": "python2"
  },
  "language_info": {
   "codemirror_mode": {
    "name": "ipython",
    "version": 2
   },
   "file_extension": ".py",
   "mimetype": "text/x-python",
   "name": "python",
   "nbconvert_exporter": "python",
   "pygments_lexer": "ipython2",
   "version": "2.7.6"
  }
 },
 "nbformat": 4,
 "nbformat_minor": 0
}
